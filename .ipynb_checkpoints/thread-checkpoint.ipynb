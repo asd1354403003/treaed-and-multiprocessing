{
 "cells": [
  {
   "cell_type": "code",
   "execution_count": 26,
   "id": "b26ae5c9",
   "metadata": {},
   "outputs": [],
   "source": [
    "import threading\n",
    "import time\n",
    "from queue import Queue\n",
    "import copy"
   ]
  },
  {
   "cell_type": "code",
   "execution_count": 6,
   "id": "5731c2a8",
   "metadata": {},
   "outputs": [
    {
     "data": {
      "text/plain": [
       "5"
      ]
     },
     "execution_count": 6,
     "metadata": {},
     "output_type": "execute_result"
    }
   ],
   "source": [
    "threading.active_count()"
   ]
  },
  {
   "cell_type": "code",
   "execution_count": 7,
   "id": "fc4b6e9a",
   "metadata": {},
   "outputs": [
    {
     "data": {
      "text/plain": [
       "[<_MainThread(MainThread, started 15592)>,\n",
       " <Thread(Thread-6, started daemon 19644)>,\n",
       " <Heartbeat(Thread-7, started daemon 16312)>,\n",
       " <ControlThread(Thread-5, started daemon 29312)>,\n",
       " <HistorySavingThread(IPythonHistorySavingThread, started 20588)>]"
      ]
     },
     "execution_count": 7,
     "metadata": {},
     "output_type": "execute_result"
    }
   ],
   "source": [
    "threading.enumerate()"
   ]
  },
  {
   "cell_type": "code",
   "execution_count": 8,
   "id": "1ee8236a",
   "metadata": {
    "scrolled": true
   },
   "outputs": [
    {
     "data": {
      "text/plain": [
       "<_MainThread(MainThread, started 15592)>"
      ]
     },
     "execution_count": 8,
     "metadata": {},
     "output_type": "execute_result"
    }
   ],
   "source": [
    "threading.current_thread()"
   ]
  },
  {
   "cell_type": "markdown",
   "id": "485fc3fe",
   "metadata": {},
   "source": [
    "# 1"
   ]
  },
  {
   "cell_type": "code",
   "execution_count": 10,
   "id": "f1bc252b",
   "metadata": {},
   "outputs": [],
   "source": [
    "def thread_job():\n",
    "    print('This is a thread of %s' % threading.current_thread())"
   ]
  },
  {
   "cell_type": "code",
   "execution_count": 11,
   "id": "3d0d29db",
   "metadata": {},
   "outputs": [
    {
     "name": "stdout",
     "output_type": "stream",
     "text": [
      "This is a thread of <Thread(Thread-8, started 24552)>\n"
     ]
    }
   ],
   "source": [
    "thread = threading.Thread(target=thread_job,)\n",
    "thread.start()"
   ]
  },
  {
   "cell_type": "markdown",
   "id": "ddbcfb8f",
   "metadata": {},
   "source": [
    "# 2 join to main "
   ]
  },
  {
   "cell_type": "code",
   "execution_count": 18,
   "id": "239ba188",
   "metadata": {},
   "outputs": [],
   "source": [
    "def thread_job():\n",
    "    print('T1 start\\n')\n",
    "    for i in range(10):\n",
    "        time.sleep(0.1)\n",
    "    print('T1 finish\\n')\n",
    "def T2_job():\n",
    "    print('T2 start\\n')\n",
    "    print('T2 finish\\n')"
   ]
  },
  {
   "cell_type": "code",
   "execution_count": 19,
   "id": "ef5dbb57",
   "metadata": {},
   "outputs": [
    {
     "name": "stdout",
     "output_type": "stream",
     "text": [
      "T1 start\n",
      "\n",
      "T2 start\n",
      "\n",
      "T2 finish\n",
      "\n",
      "T1 finish\n",
      "\n",
      "all finish\n"
     ]
    }
   ],
   "source": [
    "thread1 = threading.Thread(target=thread_job, name='T1')\n",
    "thread2 = threading.Thread(target=T2_job, name='T2')\n",
    "thread1.start()\n",
    "thread2.start()\n",
    "thread2.join()\n",
    "thread1.join()\n",
    "print('all finish')"
   ]
  },
  {
   "cell_type": "code",
   "execution_count": 20,
   "id": "3e8ca754",
   "metadata": {},
   "outputs": [
    {
     "name": "stdout",
     "output_type": "stream",
     "text": [
      "T1 start\n",
      "\n",
      "T2 start\n",
      "\n",
      "T2 finish\n",
      "\n",
      "all finish\n",
      "T1 finish\n",
      "\n"
     ]
    }
   ],
   "source": [
    "thread1 = threading.Thread(target=thread_job, name='T1')\n",
    "thread2 = threading.Thread(target=T2_job, name='T2')\n",
    "thread1.start()\n",
    "thread2.start()\n",
    "# thread2.join()\n",
    "# thread1.join()\n",
    "print('all finish')"
   ]
  },
  {
   "cell_type": "markdown",
   "id": "3e721d78",
   "metadata": {},
   "source": [
    "# 3 to Queue"
   ]
  },
  {
   "cell_type": "code",
   "execution_count": 23,
   "id": "caa2f99b",
   "metadata": {},
   "outputs": [],
   "source": [
    "def job(l,q):\n",
    "    for i in range (len(l)):\n",
    "        l[i] = l[i]**2\n",
    "    q.put(l)"
   ]
  },
  {
   "cell_type": "code",
   "execution_count": 24,
   "id": "2ee58ef3",
   "metadata": {},
   "outputs": [],
   "source": [
    "def multithreading():\n",
    "    q =Queue()\n",
    "    threads = []\n",
    "    data = [[1,2,3],[3,4,5],[4,4,4],[5,5,5]]\n",
    "    for i in range(4):\n",
    "        t = threading.Thread(target=job,args=(data[i],q))\n",
    "        t.start()\n",
    "        threads.append(t)\n",
    "    for thread in threads:\n",
    "        thread.join()\n",
    "    results = []\n",
    "    for _ in range(4):\n",
    "        results.append(q.get())\n",
    "    print(results)"
   ]
  },
  {
   "cell_type": "code",
   "execution_count": 25,
   "id": "43af4a51",
   "metadata": {},
   "outputs": [
    {
     "name": "stdout",
     "output_type": "stream",
     "text": [
      "[[1, 4, 9], [9, 16, 25], [16, 16, 16], [25, 25, 25]]\n"
     ]
    }
   ],
   "source": [
    "multithreading()"
   ]
  },
  {
   "cell_type": "markdown",
   "id": "83e4734c",
   "metadata": {},
   "source": [
    "# 4 Global Interpreter Lock (GIL)"
   ]
  },
  {
   "cell_type": "code",
   "execution_count": 27,
   "id": "6c5ef350",
   "metadata": {},
   "outputs": [],
   "source": [
    "def job(l, q):\n",
    "    res = sum(l)\n",
    "    q.put(res)"
   ]
  },
  {
   "cell_type": "code",
   "execution_count": 28,
   "id": "9cf92a8a",
   "metadata": {},
   "outputs": [],
   "source": [
    "def multithreading(l):\n",
    "    q = Queue()\n",
    "    threads = []\n",
    "    for i in range(4):\n",
    "        t = threading.Thread(target=job, args=(copy.copy(l), q), name='T%i' % i)\n",
    "        t.start()\n",
    "        threads.append(t)\n",
    "    [t.join() for t in threads]\n",
    "    total = 0\n",
    "    for _ in range(4):\n",
    "        total += q.get()\n",
    "    print(total)"
   ]
  },
  {
   "cell_type": "code",
   "execution_count": 32,
   "id": "f4816f6d",
   "metadata": {},
   "outputs": [
    {
     "name": "stdout",
     "output_type": "stream",
     "text": [
      "1999998000000\n",
      "normal:  0.08159685134887695\n"
     ]
    }
   ],
   "source": [
    "l = list(range(1000000))\n",
    "s_t = time.time()\n",
    "normal(l*4)\n",
    "print('normal: ',time.time()-s_t)"
   ]
  },
  {
   "cell_type": "code",
   "execution_count": 33,
   "id": "862b9d5a",
   "metadata": {},
   "outputs": [
    {
     "name": "stdout",
     "output_type": "stream",
     "text": [
      "1999998000000\n",
      "multithreading:  0.09496140480041504\n"
     ]
    }
   ],
   "source": [
    "s_t = time.time()\n",
    "multithreading(l)\n",
    "print('multithreading: ', time.time()-s_t)"
   ]
  },
  {
   "cell_type": "markdown",
   "id": "512ccece",
   "metadata": {},
   "source": [
    "# 5 Lock"
   ]
  },
  {
   "cell_type": "code",
   "execution_count": 36,
   "id": "63b7688e",
   "metadata": {},
   "outputs": [],
   "source": [
    "def job1():\n",
    "    global A,lock\n",
    "    lock.acquire()\n",
    "    for i in range(10):\n",
    "        A+=1\n",
    "        print('job1',A)\n",
    "    lock.release()"
   ]
  },
  {
   "cell_type": "code",
   "execution_count": 37,
   "id": "b5925146",
   "metadata": {},
   "outputs": [],
   "source": [
    "def job2():\n",
    "    global A,lock\n",
    "    lock.acquire()\n",
    "    for i in range(10):\n",
    "        A+=10\n",
    "        print('job2',A)\n",
    "    lock.release()"
   ]
  },
  {
   "cell_type": "code",
   "execution_count": 40,
   "id": "8306e9f7",
   "metadata": {},
   "outputs": [
    {
     "name": "stdout",
     "output_type": "stream",
     "text": [
      "job1 1\n",
      "job1 2\n",
      "job1 3\n",
      "job1 4\n",
      "job1 5\n",
      "job1 6\n",
      "job1 7\n",
      "job1 8\n",
      "job1 9\n",
      "job1 10\n",
      "job2 20\n",
      "job2 30\n",
      "job2 40\n",
      "job2 50\n",
      "job2 60\n",
      "job2 70\n",
      "job2 80\n",
      "job2 90\n",
      "job2 100\n",
      "job2 110\n"
     ]
    }
   ],
   "source": [
    "lock=threading.Lock()\n",
    "A=0\n",
    "t1=threading.Thread(target=job1)\n",
    "t2=threading.Thread(target=job2)\n",
    "t1.start()\n",
    "t2.start()\n",
    "t1.join()\n",
    "t2.join()"
   ]
  },
  {
   "cell_type": "code",
   "execution_count": null,
   "id": "e02a8acb",
   "metadata": {},
   "outputs": [],
   "source": []
  }
 ],
 "metadata": {
  "kernelspec": {
   "display_name": "Python [conda env:All]",
   "language": "python",
   "name": "conda-env-All-py"
  },
  "language_info": {
   "codemirror_mode": {
    "name": "ipython",
    "version": 3
   },
   "file_extension": ".py",
   "mimetype": "text/x-python",
   "name": "python",
   "nbconvert_exporter": "python",
   "pygments_lexer": "ipython3",
   "version": "3.9.7"
  }
 },
 "nbformat": 4,
 "nbformat_minor": 5
}
